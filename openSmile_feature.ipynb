{
 "cells": [
  {
   "cell_type": "markdown",
   "metadata": {},
   "source": [
    "### Imports and Configuration"
   ]
  },
  {
   "cell_type": "code",
   "execution_count": 3,
   "metadata": {},
   "outputs": [],
   "source": [
    "import os\n",
    "import csv\n",
    "import sys\n",
    "import time\n",
    "import pandas as pd\n",
    "from sklearn.preprocessing import StandardScaler\n",
    "from typing import Tuple\n",
    "from sklearn.model_selection import train_test_split\n",
    "\n",
    "\n"
   ]
  },
  {
   "cell_type": "code",
   "execution_count": 7,
   "metadata": {},
   "outputs": [],
   "source": [
    "paths = pd.read_csv('emoRav_data.csv')\n",
    "path = paths['Path']"
   ]
  },
  {
   "cell_type": "code",
   "execution_count": null,
   "metadata": {},
   "outputs": [],
   "source": [
    "cmd = 'cd ' + OPENSMILE_PATH + ' && ./SMILExtract -C config/' + Config.CONFIG + '.conf -I ' + filepath + ' -O ' + BASE_DIR + '/' + Config.FEATURE_PATH + 'single_feature.csv'\n",
    "print(\"Opensmile cmd: \", cmd)\n",
    "os.system(cmd)"
   ]
  },
  {
   "cell_type": "code",
   "execution_count": null,
   "metadata": {},
   "outputs": [],
   "source": [
    "def get_feature_opensmile(filepath: str):\n",
    "    BASE_DIR = os.path.dirname(os.path.abspath(__file__))\n",
    "    cmd = 'cd ' + Config.OPENSMILE_PATH + ' && ./SMILExtract -C config/' + Config.CONFIG + '.conf -I ' + filepath + ' -O ' + BASE_DIR + '/' + Config.FEATURE_PATH + 'single_feature.csv'\n",
    "    print(\"Opensmile cmd: \", cmd)\n",
    "    os.system(cmd)\n",
    "    \n",
    "    reader = csv.reader(open(BASE_DIR + '/' + Config.FEATURE_PATH + 'single_feature.csv','r'))\n",
    "    rows = [row for row in reader]\n",
    "    last_line = rows[-1]\n",
    "    return last_line[1: FEATURE_NUM[Config.CONFIG] + 1]"
   ]
  }
 ],
 "metadata": {
  "kernelspec": {
   "display_name": "audio",
   "language": "python",
   "name": "python3"
  },
  "language_info": {
   "codemirror_mode": {
    "name": "ipython",
    "version": 3
   },
   "file_extension": ".py",
   "mimetype": "text/x-python",
   "name": "python",
   "nbconvert_exporter": "python",
   "pygments_lexer": "ipython3",
   "version": "3.10.14"
  }
 },
 "nbformat": 4,
 "nbformat_minor": 2
}
