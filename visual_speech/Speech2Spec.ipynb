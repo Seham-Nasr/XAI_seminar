{
 "cells": [
  {
   "cell_type": "code",
   "execution_count": 1,
   "metadata": {},
   "outputs": [],
   "source": [
    "import pandas as pd\n",
    "import matplotlib.pyplot as plt\n",
    "import librosa\n",
    "import io\n",
    "import os \n",
    "import csv\n",
    "import numpy as np"
   ]
  },
  {
   "cell_type": "code",
   "execution_count": 2,
   "metadata": {},
   "outputs": [
    {
     "data": {
      "text/html": [
       "<div>\n",
       "<style scoped>\n",
       "    .dataframe tbody tr th:only-of-type {\n",
       "        vertical-align: middle;\n",
       "    }\n",
       "\n",
       "    .dataframe tbody tr th {\n",
       "        vertical-align: top;\n",
       "    }\n",
       "\n",
       "    .dataframe thead th {\n",
       "        text-align: right;\n",
       "    }\n",
       "</style>\n",
       "<table border=\"1\" class=\"dataframe\">\n",
       "  <thead>\n",
       "    <tr style=\"text-align: right;\">\n",
       "      <th></th>\n",
       "      <th>Emotions</th>\n",
       "      <th>Path</th>\n",
       "    </tr>\n",
       "  </thead>\n",
       "  <tbody>\n",
       "    <tr>\n",
       "      <th>0</th>\n",
       "      <td>angry</td>\n",
       "      <td>/home/nasr/GitHub/2024/sem_tut/audio/data/Ravd...</td>\n",
       "    </tr>\n",
       "    <tr>\n",
       "      <th>1</th>\n",
       "      <td>happy</td>\n",
       "      <td>/home/nasr/GitHub/2024/sem_tut/audio/data/Ravd...</td>\n",
       "    </tr>\n",
       "    <tr>\n",
       "      <th>2</th>\n",
       "      <td>happy</td>\n",
       "      <td>/home/nasr/GitHub/2024/sem_tut/audio/data/Ravd...</td>\n",
       "    </tr>\n",
       "    <tr>\n",
       "      <th>3</th>\n",
       "      <td>angry</td>\n",
       "      <td>/home/nasr/GitHub/2024/sem_tut/audio/data/Ravd...</td>\n",
       "    </tr>\n",
       "    <tr>\n",
       "      <th>4</th>\n",
       "      <td>happy</td>\n",
       "      <td>/home/nasr/GitHub/2024/sem_tut/audio/data/Ravd...</td>\n",
       "    </tr>\n",
       "  </tbody>\n",
       "</table>\n",
       "</div>"
      ],
      "text/plain": [
       "  Emotions                                               Path\n",
       "0    angry  /home/nasr/GitHub/2024/sem_tut/audio/data/Ravd...\n",
       "1    happy  /home/nasr/GitHub/2024/sem_tut/audio/data/Ravd...\n",
       "2    happy  /home/nasr/GitHub/2024/sem_tut/audio/data/Ravd...\n",
       "3    angry  /home/nasr/GitHub/2024/sem_tut/audio/data/Ravd...\n",
       "4    happy  /home/nasr/GitHub/2024/sem_tut/audio/data/Ravd..."
      ]
     },
     "execution_count": 2,
     "metadata": {},
     "output_type": "execute_result"
    }
   ],
   "source": [
    "df = pd.read_csv(\"../emoRav_data.csv\")\n",
    "df.head()"
   ]
  },
  {
   "cell_type": "code",
   "execution_count": 3,
   "metadata": {},
   "outputs": [
    {
     "data": {
      "text/html": [
       "<div>\n",
       "<style scoped>\n",
       "    .dataframe tbody tr th:only-of-type {\n",
       "        vertical-align: middle;\n",
       "    }\n",
       "\n",
       "    .dataframe tbody tr th {\n",
       "        vertical-align: top;\n",
       "    }\n",
       "\n",
       "    .dataframe thead th {\n",
       "        text-align: right;\n",
       "    }\n",
       "</style>\n",
       "<table border=\"1\" class=\"dataframe\">\n",
       "  <thead>\n",
       "    <tr style=\"text-align: right;\">\n",
       "      <th></th>\n",
       "      <th>Emotions</th>\n",
       "      <th>Path</th>\n",
       "    </tr>\n",
       "  </thead>\n",
       "  <tbody>\n",
       "    <tr>\n",
       "      <th>736</th>\n",
       "      <td>happy</td>\n",
       "      <td>/home/nasr/GitHub/2024/sem_tut/audio/data/Ravd...</td>\n",
       "    </tr>\n",
       "    <tr>\n",
       "      <th>1117</th>\n",
       "      <td>surprise</td>\n",
       "      <td>/home/nasr/GitHub/2024/sem_tut/audio/data/Ravd...</td>\n",
       "    </tr>\n",
       "    <tr>\n",
       "      <th>0</th>\n",
       "      <td>angry</td>\n",
       "      <td>/home/nasr/GitHub/2024/sem_tut/audio/data/Ravd...</td>\n",
       "    </tr>\n",
       "    <tr>\n",
       "      <th>1163</th>\n",
       "      <td>fear</td>\n",
       "      <td>/home/nasr/GitHub/2024/sem_tut/audio/data/Ravd...</td>\n",
       "    </tr>\n",
       "    <tr>\n",
       "      <th>223</th>\n",
       "      <td>neutral</td>\n",
       "      <td>/home/nasr/GitHub/2024/sem_tut/audio/data/Ravd...</td>\n",
       "    </tr>\n",
       "  </tbody>\n",
       "</table>\n",
       "</div>"
      ],
      "text/plain": [
       "      Emotions                                               Path\n",
       "736      happy  /home/nasr/GitHub/2024/sem_tut/audio/data/Ravd...\n",
       "1117  surprise  /home/nasr/GitHub/2024/sem_tut/audio/data/Ravd...\n",
       "0        angry  /home/nasr/GitHub/2024/sem_tut/audio/data/Ravd...\n",
       "1163      fear  /home/nasr/GitHub/2024/sem_tut/audio/data/Ravd...\n",
       "223    neutral  /home/nasr/GitHub/2024/sem_tut/audio/data/Ravd..."
      ]
     },
     "execution_count": 3,
     "metadata": {},
     "output_type": "execute_result"
    }
   ],
   "source": [
    "xai_data = df.sample(10)\n",
    "xai_data.head()"
   ]
  },
  {
   "cell_type": "code",
   "execution_count": 5,
   "metadata": {},
   "outputs": [],
   "source": [
    "# Convert WAV in the path into spectrogram image\n",
    "save_path = 'x_data/'"
   ]
  },
  {
   "cell_type": "code",
   "execution_count": 6,
   "metadata": {},
   "outputs": [],
   "source": [
    "for i in range(len(xai_data.iloc[:,1])):\n",
    "    y, sr = librosa.load(xai_data.iloc[i,1])\n",
    "    D = np.abs(librosa.stft(y))\n",
    "    #Compute the amplitude to decibels (db)\n",
    "    D_db = librosa.amplitude_to_db(D, ref= np.max)\n",
    "    #Plot the Spectrogram\n",
    "    plt.figure(figsize=(3,3))\n",
    "    librosa.display.specshow(D_db, sr=sr, x_axis='time', y_axis='log', cmap = 'viridis')\n",
    "    \n",
    "    # Remove the axis numbers (ticks)\n",
    "    plt.gca().xaxis.set_major_locator(plt.NullLocator())\n",
    "    plt.gca().yaxis.set_major_locator(plt.NullLocator())\n",
    "    plt.gca().xaxis.set_ticklabels([])\n",
    "    plt.gca().yaxis.set_ticklabels([])\n",
    "    # Save the figure\n",
    "    plt.savefig(os.path.join(save_path, f'spectrogram_{i}.png'))\n",
    "    plt.close() "
   ]
  },
  {
   "cell_type": "markdown",
   "metadata": {},
   "source": [
    "TO DO:\n",
    "1- Keep the spectrogram annotated as the original data\n",
    "\n",
    "\n",
    "'''\n",
    "Emotion (01 = neutral, 02 = calm, 03 = happy, 04 = sad, 05 = angry, 06 = fearful, 07 = disgust, 08 = surprised).\n",
    "Emotional intensity (01 = normal, 02 = strong). \n",
    "note: There is no strong intensity for the 'neutral' emotion.\n",
    "Statement (01 = \"Kids are talking by the door\", 02 = \"Dogs are sitting by the door\").\n",
    "Repetition (01 = 1st repetition, 02 = 2nd repetition).\n",
    "Actor (01 to 24. Odd numbered actors are male, even numbered actors are female).\n",
    "'''"
   ]
  },
  {
   "cell_type": "code",
   "execution_count": null,
   "metadata": {},
   "outputs": [],
   "source": []
  }
 ],
 "metadata": {
  "kernelspec": {
   "display_name": "audio",
   "language": "python",
   "name": "python3"
  },
  "language_info": {
   "codemirror_mode": {
    "name": "ipython",
    "version": 3
   },
   "file_extension": ".py",
   "mimetype": "text/x-python",
   "name": "python",
   "nbconvert_exporter": "python",
   "pygments_lexer": "ipython3",
   "version": "3.10.14"
  }
 },
 "nbformat": 4,
 "nbformat_minor": 2
}
